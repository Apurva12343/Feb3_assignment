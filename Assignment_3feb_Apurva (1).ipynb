{
 "cells": [
  {
   "cell_type": "code",
   "execution_count": 1,
   "id": "cf291e00-d48d-4629-9987-dceceaea2862",
   "metadata": {},
   "outputs": [],
   "source": [
    "# Q1. Which keyword is used to create a function? Create a function to return a list of odd numbers in the  range of 1 to 25. "
   ]
  },
  {
   "cell_type": "code",
   "execution_count": 2,
   "id": "a02b4ae8-e686-4350-bf30-22ef9dc04f63",
   "metadata": {},
   "outputs": [
    {
     "name": "stdout",
     "output_type": "stream",
     "text": [
      "[1, 3, 5, 7, 9, 11, 13, 15, 17, 19, 21, 23, 25]\n"
     ]
    }
   ],
   "source": [
    " # we use def keyword to create a function.\n",
    "def test():\n",
    "    odd = []\n",
    "    for i in range(1,26):\n",
    "        if i%2 != 0:\n",
    "            odd.append(i)\n",
    "    return odd\n",
    "print(test())"
   ]
  },
  {
   "cell_type": "code",
   "execution_count": 3,
   "id": "668439c0-d6ee-4fb3-be6a-85cde7f8894c",
   "metadata": {},
   "outputs": [],
   "source": [
    "# Q2. Why *args and **kwargs is used in some functions? Create a function each for *args and **kwargs  to demonstrate their use. "
   ]
  },
  {
   "cell_type": "code",
   "execution_count": 4,
   "id": "c6d18003-503c-4c5e-ae04-ebcb30903376",
   "metadata": {},
   "outputs": [
    {
     "data": {
      "text/plain": [
       "(1, 2, 3, 4, 5)"
      ]
     },
     "execution_count": 4,
     "metadata": {},
     "output_type": "execute_result"
    }
   ],
   "source": [
    "# *args is used to pass a variable number of non-keyword arguments to the function.\n",
    "def test1(*args):\n",
    "    return args\n",
    "test1(1,2,3,4,5)"
   ]
  },
  {
   "cell_type": "code",
   "execution_count": 5,
   "id": "3fa0d2d8-570e-4502-838d-990edef4475f",
   "metadata": {},
   "outputs": [
    {
     "data": {
      "text/plain": [
       "{'a': 'Apurva', 'b': 'Aryan', 'c': 266.988}"
      ]
     },
     "execution_count": 5,
     "metadata": {},
     "output_type": "execute_result"
    }
   ],
   "source": [
    "# **kwargs is used to pass a variable number of keyword arguments to the function.\n",
    "def test2(**kwargs):\n",
    "    return kwargs\n",
    "test2(a = \"Apurva\",b = \"Aryan\",c = 266.988)"
   ]
  },
  {
   "cell_type": "code",
   "execution_count": 6,
   "id": "828803c1-7a6c-456f-8066-228f43120851",
   "metadata": {},
   "outputs": [],
   "source": [
    "# Q3. What is an iterator in python? Name the method used to initialise the iterator object and the method  used for iteration. Use these methods to print the first five elements of the given list [2, 4, 6, 8, 10, 12, 14,  16, 18, 20]. "
   ]
  },
  {
   "cell_type": "code",
   "execution_count": 7,
   "id": "acaa05ab-903a-42e6-87ae-e8540945ca2f",
   "metadata": {},
   "outputs": [
    {
     "name": "stdout",
     "output_type": "stream",
     "text": [
      "2\n",
      "4\n",
      "6\n",
      "8\n",
      "10\n"
     ]
    }
   ],
   "source": [
    "# The iter() method is used to initialize the iterator object and return the iterator object.\n",
    "list = [2, 4, 6, 8, 10, 12, 14, 16, 18, 20]\n",
    "it = iter(list)\n",
    "\n",
    "for i in range(5):\n",
    "    print(next(it))"
   ]
  },
  {
   "cell_type": "code",
   "execution_count": 8,
   "id": "3b74186d-293e-436e-aa80-059eaf3320fd",
   "metadata": {},
   "outputs": [],
   "source": [
    "# Q4. What is a generator function in python? Why yield keyword is used? Give an example of a generator  function. "
   ]
  },
  {
   "cell_type": "code",
   "execution_count": 9,
   "id": "c62cacf6-fda3-42f8-b9d1-fdcefc6dedf3",
   "metadata": {},
   "outputs": [],
   "source": [
    "# A generator function in Python is a special type of function that returns an iterator. \n",
    "# The yield keyword is used in the generator function to produce the next value in the generator object.\n",
    "# Example\n",
    "def test_fib(n):\n",
    "    a,b = 0,1\n",
    "    for i in range(n):\n",
    "        yield a\n",
    "        a,b = b, a+b"
   ]
  },
  {
   "cell_type": "code",
   "execution_count": 10,
   "id": "1f43eae0-d2d7-4df5-948a-afd8b882d529",
   "metadata": {},
   "outputs": [
    {
     "name": "stdout",
     "output_type": "stream",
     "text": [
      "0\n",
      "1\n",
      "1\n",
      "2\n",
      "3\n",
      "5\n",
      "8\n",
      "13\n",
      "21\n",
      "34\n"
     ]
    }
   ],
   "source": [
    "for i in test_fib(10):\n",
    "    print(i)"
   ]
  },
  {
   "cell_type": "code",
   "execution_count": 11,
   "id": "10a3e17c-a6fb-4b0b-a7d3-8231ad72d544",
   "metadata": {},
   "outputs": [],
   "source": [
    "# Q5. Create a generator function for prime numbers less than 1000. Use the next() method to print the  first 20 prime numbers"
   ]
  },
  {
   "cell_type": "code",
   "execution_count": 12,
   "id": "2707d53c-7025-43d3-adb9-6641160b79a6",
   "metadata": {},
   "outputs": [
    {
     "name": "stdout",
     "output_type": "stream",
     "text": [
      "2\n",
      "3\n",
      "5\n",
      "7\n",
      "11\n",
      "13\n",
      "17\n",
      "19\n",
      "23\n",
      "29\n",
      "31\n",
      "37\n",
      "41\n",
      "43\n",
      "47\n",
      "53\n",
      "59\n",
      "61\n",
      "67\n",
      "71\n"
     ]
    }
   ],
   "source": [
    "def prime_numbers(a):\n",
    "    primes = []\n",
    "    for number in range(2, a):\n",
    "        for prime in primes:\n",
    "            if number % prime == 0:\n",
    "                break\n",
    "        else:\n",
    "            primes.append(number)\n",
    "            yield number\n",
    "\n",
    "primes = prime_numbers(1000)\n",
    "\n",
    "for i in range(20):\n",
    "    print(next(primes))\n"
   ]
  },
  {
   "cell_type": "code",
   "execution_count": 13,
   "id": "e5ac20ad-7da9-4487-a6a1-5c3ea0d11b58",
   "metadata": {},
   "outputs": [],
   "source": [
    "# Q6. Write a python program to print the first 10 Fibonacci numbers using a while loop. "
   ]
  },
  {
   "cell_type": "code",
   "execution_count": 14,
   "id": "81c482ef-605c-4f6c-9eed-f751cfcd0a07",
   "metadata": {},
   "outputs": [
    {
     "name": "stdin",
     "output_type": "stream",
     "text": [
      "Please enter number 10\n"
     ]
    },
    {
     "name": "stdout",
     "output_type": "stream",
     "text": [
      "0\n",
      "1\n",
      "1\n",
      "2\n",
      "3\n",
      "5\n",
      "8\n",
      "13\n",
      "21\n",
      "34\n"
     ]
    }
   ],
   "source": [
    "number = int(input(\"Please enter number\"))\n",
    "a,b = 0,1\n",
    "counter = 0\n",
    "while counter < number:\n",
    "    print(a)\n",
    "    c = a + b\n",
    "    a = b\n",
    "    b = c\n",
    "    counter = counter + 1"
   ]
  },
  {
   "cell_type": "code",
   "execution_count": 15,
   "id": "15d79ccb-78b6-4403-897e-2695863a25e8",
   "metadata": {},
   "outputs": [],
   "source": [
    "# Q7. Write a List Comprehension to iterate through the given string: ‘pwskills’. \n",
    "# Expected output: ['p', 'w', 's', 'k', 'i', 'l', 'l', 's']"
   ]
  },
  {
   "cell_type": "code",
   "execution_count": 16,
   "id": "0288f6f9-cd7f-4fa0-b1b6-e193c9ae7697",
   "metadata": {},
   "outputs": [
    {
     "data": {
      "text/plain": [
       "['p', 'w', 's', 'k', 'i', 'l', 'l', 's']"
      ]
     },
     "execution_count": 16,
     "metadata": {},
     "output_type": "execute_result"
    }
   ],
   "source": [
    "l = \"pwskills\"\n",
    "[i for i in l]"
   ]
  },
  {
   "cell_type": "code",
   "execution_count": 17,
   "id": "7492047e-298f-4ea4-929c-0dbfa328de98",
   "metadata": {},
   "outputs": [],
   "source": [
    "# Q8. Write a python program to check whether a given number is Palindrome or not using a while loop. "
   ]
  },
  {
   "cell_type": "code",
   "execution_count": 18,
   "id": "94222825-aa42-4c2c-88c0-4c51ee7f9c0c",
   "metadata": {},
   "outputs": [
    {
     "name": "stdin",
     "output_type": "stream",
     "text": [
      "Enter a number:  555\n"
     ]
    },
    {
     "name": "stdout",
     "output_type": "stream",
     "text": [
      "555 is a palindrome.\n"
     ]
    }
   ],
   "source": [
    "def palindrome(number):\n",
    "    original_number = number\n",
    "    reverse = 0\n",
    "    while number > 0:\n",
    "        remainder = number % 10\n",
    "        reverse = (reverse * 10) + remainder\n",
    "        number = number // 10\n",
    "    return original_number == reverse\n",
    "\n",
    "number = int(input(\"Enter a number: \"))\n",
    "if palindrome(number):\n",
    "    print(f\"{number} is a palindrome.\")\n",
    "else:\n",
    "    print(f\"{number} is not a palindrome.\")\n"
   ]
  },
  {
   "cell_type": "code",
   "execution_count": 19,
   "id": "090847c7-b216-4123-8308-279dcd79fa73",
   "metadata": {},
   "outputs": [],
   "source": [
    "# Q9. Write a code to print odd numbers from 1 to 100 using list comprehension. \n",
    "# Note: Use a list comprehension to create a list from 1 to 100 and use another List comprehension to filter  out odd numbers. "
   ]
  },
  {
   "cell_type": "code",
   "execution_count": 20,
   "id": "08953d3d-64ac-44f9-b7f8-e976a2ed0a8b",
   "metadata": {},
   "outputs": [
    {
     "data": {
      "text/plain": [
       "[1,\n",
       " 3,\n",
       " 5,\n",
       " 7,\n",
       " 9,\n",
       " 11,\n",
       " 13,\n",
       " 15,\n",
       " 17,\n",
       " 19,\n",
       " 21,\n",
       " 23,\n",
       " 25,\n",
       " 27,\n",
       " 29,\n",
       " 31,\n",
       " 33,\n",
       " 35,\n",
       " 37,\n",
       " 39,\n",
       " 41,\n",
       " 43,\n",
       " 45,\n",
       " 47,\n",
       " 49,\n",
       " 51,\n",
       " 53,\n",
       " 55,\n",
       " 57,\n",
       " 59,\n",
       " 61,\n",
       " 63,\n",
       " 65,\n",
       " 67,\n",
       " 69,\n",
       " 71,\n",
       " 73,\n",
       " 75,\n",
       " 77,\n",
       " 79,\n",
       " 81,\n",
       " 83,\n",
       " 85,\n",
       " 87,\n",
       " 89,\n",
       " 91,\n",
       " 93,\n",
       " 95,\n",
       " 97,\n",
       " 99]"
      ]
     },
     "execution_count": 20,
     "metadata": {},
     "output_type": "execute_result"
    }
   ],
   "source": [
    "[i for i in range(1,101) if i%2!=0]"
   ]
  }
 ],
 "metadata": {
  "kernelspec": {
   "display_name": "Python 3 (ipykernel)",
   "language": "python",
   "name": "python3"
  },
  "language_info": {
   "codemirror_mode": {
    "name": "ipython",
    "version": 3
   },
   "file_extension": ".py",
   "mimetype": "text/x-python",
   "name": "python",
   "nbconvert_exporter": "python",
   "pygments_lexer": "ipython3",
   "version": "3.10.6"
  }
 },
 "nbformat": 4,
 "nbformat_minor": 5
}
